{
 "cells": [
  {
   "cell_type": "markdown",
   "metadata": {},
   "source": [
    "# 1.python基础试题"
   ]
  },
  {
   "cell_type": "markdown",
   "metadata": {},
   "source": [
    "1.1 python 中boolean、float 和 int 分别表示什么？"
   ]
  },
  {
   "cell_type": "code",
   "execution_count": null,
   "metadata": {
    "collapsed": true
   },
   "outputs": [],
   "source": [
    "boolean：布尔值，用于判断真假，True为真，False为假\n",
    "float：浮点数\n",
    "int：整数"
   ]
  },
  {
   "cell_type": "markdown",
   "metadata": {},
   "source": [
    "1.2  设计求1-2+3-4+5 ... 99的所有数的和"
   ]
  },
  {
   "cell_type": "code",
   "execution_count": 1,
   "metadata": {},
   "outputs": [
    {
     "name": "stdout",
     "output_type": "stream",
     "text": [
      "50\n"
     ]
    }
   ],
   "source": [
    "a=0\n",
    "for i in range(1,100):\n",
    "    if(i % 2 == 0):\n",
    "        a = a - i\n",
    "    else:\n",
    "        a = a + i\n",
    "print(a)\n",
    "        "
   ]
  },
  {
   "cell_type": "markdown",
   "metadata": {},
   "source": [
    "1.3  将字符串 s=\"yoyo\" 转换成列表"
   ]
  },
  {
   "cell_type": "code",
   "execution_count": 2,
   "metadata": {},
   "outputs": [
    {
     "name": "stdout",
     "output_type": "stream",
     "text": [
      "['y', 'o', 'y', 'o']\n"
     ]
    }
   ],
   "source": [
    "l = []\n",
    "s = \"yoyo\"\n",
    "for i in s:\n",
    "    l.append(i)\n",
    "print(l)"
   ]
  },
  {
   "cell_type": "markdown",
   "metadata": {},
   "source": [
    "# 2. python进阶基础试题"
   ]
  },
  {
   "cell_type": "markdown",
   "metadata": {},
   "source": [
    "2.1     for i in range(1,100)[2::3][-10:]: \n",
    "\n",
    "                print i \n",
    "                \n",
    "        理解这段代码，并说出它是如何取数的"
   ]
  },
  {
   "cell_type": "code",
   "execution_count": 3,
   "metadata": {},
   "outputs": [
    {
     "name": "stdout",
     "output_type": "stream",
     "text": [
      "72\n",
      "75\n",
      "78\n",
      "81\n",
      "84\n",
      "87\n",
      "90\n",
      "93\n",
      "96\n",
      "99\n"
     ]
    }
   ],
   "source": [
    "for i in range(1,100)[2::3][-10:]:\n",
    "            print(i)\n",
    "#先从1到100中取出3的倍数的数，再从这些数中取出后面10个数字"
   ]
  },
  {
   "cell_type": "markdown",
   "metadata": {},
   "source": [
    "2.2 使用init 实例化时自动运行  分别计算单只股票最高价和收盘价两个时间点差值问题,可统一为one、two两个时间点,其最高价和收盘价赋值为 one(15,7) two(66,20)"
   ]
  },
  {
   "cell_type": "code",
   "execution_count": 4,
   "metadata": {},
   "outputs": [
    {
     "name": "stdout",
     "output_type": "stream",
     "text": [
      "{'one_diff': 8}\n",
      "{'two_diff': 46}\n"
     ]
    }
   ],
   "source": [
    "class stock:\n",
    "    def __init__(self,time, close, high):\n",
    "        self.time=time\n",
    "        self.close = close\n",
    "        self.high = high\n",
    "    def calAmount(self):\n",
    "        return {self.time+'_diff': self.close-self.high}\n",
    "one = stock('one', 15, 7)\n",
    "print(one.calAmount())\n",
    "\n",
    "two = stock('two', 66, 20)\n",
    "print(two.calAmount())"
   ]
  },
  {
   "cell_type": "markdown",
   "metadata": {},
   "source": [
    "# 3. pandas数据处理试题"
   ]
  },
  {
   "cell_type": "markdown",
   "metadata": {},
   "source": [
    "3.1 如何查看列名、怎么对数据转置"
   ]
  },
  {
   "cell_type": "code",
   "execution_count": 6,
   "metadata": {},
   "outputs": [
    {
     "name": "stdout",
     "output_type": "stream",
     "text": [
      "[[ 0  1  2  3]\n",
      " [ 4  5  6  7]\n",
      " [ 8  9 10 11]\n",
      " [12 13 14 15]]\n",
      "[[ 0  4  8 12]\n",
      " [ 1  5  9 13]\n",
      " [ 2  6 10 14]\n",
      " [ 3  7 11 15]]\n"
     ]
    }
   ],
   "source": [
    "'''\n",
    "查看列名：\n",
    "假设data是一个dataframe\n",
    "则data.columns.values 返回列名的 array\n",
    "'''\n",
    "\n",
    "#数据转置\n",
    "import numpy as np\n",
    "arr = np.arange(16).reshape(4, 4)\n",
    "print(arr)\n",
    "arr2 = arr.transpose((1,0))\n",
    "print(arr2)\n"
   ]
  },
  {
   "cell_type": "markdown",
   "metadata": {},
   "source": [
    "3.2 读取data里的600029这只股票的DataFrame,将其收盘价转换成用Numpy的Array格式，并用talib计算10日EMA值，返回ndarray的最后五个值"
   ]
  },
  {
   "cell_type": "code",
   "execution_count": 7,
   "metadata": {},
   "outputs": [
    {
     "name": "stdout",
     "output_type": "stream",
     "text": [
      "[ 11.64  11.72  11.8   11.8   11.85  12.73  12.13  11.98  11.97  12.02\n",
      "  11.97  12.03  11.98  12.03  12.17  12.18  12.22  12.08  12.03  11.89\n",
      "  11.89  11.95  11.98  12.15  12.2   12.18  12.3   12.48  12.3   12.68\n",
      "  12.76  12.79  12.61  13.07  12.69  12.71  12.86  12.76  12.74  12.88\n",
      "  12.78  12.73  12.69  12.76  12.83  12.91  13.09  13.16  12.96  12.81\n",
      "  12.79  13.01  13.09  13.52  13.54  13.32  13.47  13.49  13.62  13.77\n",
      "  13.95  13.67  13.63  13.45  13.49  13.39  13.27  13.32  13.44  13.32\n",
      "  13.01  12.61  12.78  12.71  12.84  12.96  12.86  13.06  13.21  13.19\n",
      "  13.06  13.29  13.5   13.49  13.52  13.35  13.35  13.21  13.35  13.5\n",
      "  13.52  13.73  14.03  14.25  14.53  14.31  14.38  14.46  14.38  14.76\n",
      "  14.89  14.99  14.82  14.59  14.67  14.67  14.99  14.74  14.76  14.82\n",
      "  14.63  14.94  14.53  14.25  14.3   14.36  14.21  14.2   14.28  14.26\n",
      "  14.16  13.82  13.83  13.7   13.9   14.11  14.1   14.18  14.25  14.08\n",
      "  14.13  14.1   13.72  13.17  13.27  13.22  13.29  13.44  13.37  13.14\n",
      "  13.16  13.19  13.22  13.04  13.45  13.52  13.45  13.52  13.73  13.85\n",
      "  13.9   13.78  13.78  13.77  13.42  13.59  13.83  13.92  14.61  14.48\n",
      "  14.28  14.49  14.59  14.54  14.31  14.96  14.89  14.66  14.49  14.41\n",
      "  14.36  14.31  14.08  14.01  13.73  13.83  14.    13.9   13.75  13.63\n",
      "  13.65  13.7   13.65  13.67  13.52  13.57  13.47  13.32  13.44  13.55\n",
      "  13.65  13.68  13.85  13.82  13.83  14.11  14.25  14.39  15.1   15.15\n",
      "  15.22  14.97  14.89  14.99  14.71  15.07  15.35  16.    16.04  16.29\n",
      "  16.97  17.05]\n"
     ]
    }
   ],
   "source": [
    "import numpy as np\n",
    "import pandas as pd\n",
    "import talib as ta\n",
    "import warnings\n",
    "warnings.filterwarnings('ignore')\n",
    "\n",
    "stock = pd.read_excel('sz50.xlsx',sheetname='600029.XSHG', index_col='datetime')\n",
    "print(ta.MA(stock.close.values, 1))"
   ]
  },
  {
   "cell_type": "code",
   "execution_count": 8,
   "metadata": {},
   "outputs": [
    {
     "name": "stdout",
     "output_type": "stream",
     "text": [
      "[ 15.08227205  15.2564044   15.44433088  15.72172526  15.96322976]\n"
     ]
    }
   ],
   "source": [
    "print(ta.EMA(stock.close.values, 10)[-5:])"
   ]
  },
  {
   "cell_type": "markdown",
   "metadata": {},
   "source": [
    "3.3 读取sz50.xlsx的['600029.XSHG','600050.XSHG','601318.XSHG']的全数据做成Panel"
   ]
  },
  {
   "cell_type": "code",
   "execution_count": 9,
   "metadata": {},
   "outputs": [
    {
     "name": "stdout",
     "output_type": "stream",
     "text": [
      "<class 'pandas.core.panel.Panel'>\n",
      "Dimensions: 3 (items) x 215 (major_axis) x 5 (minor_axis)\n",
      "Items axis: 600029.XSHG to 601318.XSHG\n",
      "Major_axis axis: 2017-01-03 15:00:00 to 2017-11-20 15:00:00\n",
      "Minor_axis axis: close to volume\n"
     ]
    }
   ],
   "source": [
    "from datetime import datetime\n",
    "import pandas as pd\n",
    "symbol=['600029.XSHG','600050.XSHG','601318.XSHG']\n",
    "data_dict = {}\n",
    "for s in symbol:\n",
    "    data =  pd.read_excel('sz50.xlsx',sheetname=s, index_col='datetime')\n",
    "    data_dict[s] = data.loc['2017-01-03':'2017-11-20']\n",
    "PN = pd.Panel(data_dict)\n",
    "print(PN)"
   ]
  },
  {
   "cell_type": "markdown",
   "metadata": {},
   "source": [
    "3.4把Panel转成ndim为3的Numpy，然后用array的切片读取ndim为2的三只股票最近20天的收盘价"
   ]
  },
  {
   "cell_type": "code",
   "execution_count": 10,
   "metadata": {
    "scrolled": true
   },
   "outputs": [
    {
     "name": "stdout",
     "output_type": "stream",
     "text": [
      "                                  close    high     low    open       volume\n",
      "datetime            minor                                                   \n",
      "2017-01-03 15:00:00 600029.XSHG   11.64   11.69   11.54   11.55   26749400.0\n",
      "                    600050.XSHG    8.99    9.14    8.73    8.76  242291182.0\n",
      "                    601318.XSHG   79.89   80.65   79.11   79.15   29687099.0\n",
      "2017-01-04 15:00:00 600029.XSHG   11.72   11.75   11.55   11.62   45710506.0\n",
      "                    600050.XSHG    8.98    9.04    8.82    8.95  200960890.0\n",
      "                    601318.XSHG   79.87   80.16   79.53   79.94   25257305.0\n",
      "2017-01-05 15:00:00 600029.XSHG   11.80   11.93   11.77   11.82   56905338.0\n",
      "                    600050.XSHG    9.48    9.50    8.91    8.93  360200783.0\n",
      "                    601318.XSHG   80.02   80.50   79.91   80.02   28689533.0\n",
      "2017-01-06 15:00:00 600029.XSHG   11.80   11.92   11.77   11.82   42445959.0\n",
      "                    600050.XSHG    9.27    9.51    9.21    9.37  281319845.0\n",
      "                    601318.XSHG   79.38   80.38   79.17   80.02   36284227.0\n",
      "2017-01-09 15:00:00 600029.XSHG   11.85   11.93   11.65   11.77   41821281.0\n",
      "                    600050.XSHG    9.31    9.40    9.08    9.26  226362121.0\n",
      "                    601318.XSHG   79.38   79.62   78.99   79.44   27061697.0\n",
      "2017-01-10 15:00:00 600029.XSHG   12.73   13.04   11.77   11.80  346225902.0\n",
      "                    600050.XSHG    9.13    9.43    9.09    9.27  215168388.0\n",
      "                    601318.XSHG   78.90   79.49   78.84   79.38   20534990.0\n",
      "2017-01-11 15:00:00 600029.XSHG   12.13   12.50   12.08   12.38  233991787.0\n",
      "                    600050.XSHG    8.34    9.09    8.21    9.04  495678055.0\n",
      "                    601318.XSHG   78.90   79.35   78.61   78.95   20993849.0\n",
      "2017-01-12 15:00:00 600029.XSHG   11.98   12.13   11.93   12.08   90647970.0\n",
      "                    600050.XSHG    8.06    8.30    7.89    8.20  355817269.0\n",
      "                    601318.XSHG   78.82   79.33   78.73   79.06   18718503.0\n",
      "2017-01-13 15:00:00 600029.XSHG   11.97   12.08   11.92   11.97   79221712.0\n",
      "                    600050.XSHG    8.03    8.22    7.95    7.98  203917286.0\n",
      "                    601318.XSHG   79.60   80.41   78.82   78.90   33069097.0\n",
      "2017-01-16 15:00:00 600029.XSHG   12.02   12.12   11.75   12.02  110640920.0\n",
      "                    600050.XSHG    7.97    8.08    7.49    7.97  424075096.0\n",
      "                    601318.XSHG   81.01   81.26   78.86   79.64  112904327.0\n",
      "...                                 ...     ...     ...     ...          ...\n",
      "2017-11-07 15:00:00 600029.XSHG   14.89   15.10   14.69   14.79   51390000.0\n",
      "                    600050.XSHG    9.63    9.65    9.15    9.16  328336900.0\n",
      "                    601318.XSHG  146.41  149.03  144.15  144.15   57524500.0\n",
      "2017-11-08 15:00:00 600029.XSHG   14.99   15.09   14.72   14.84   40682700.0\n",
      "                    600050.XSHG    9.50    9.71    9.47    9.59  228177200.0\n",
      "                    601318.XSHG  144.71  148.58  144.10  146.59   43670000.0\n",
      "2017-11-09 15:00:00 600029.XSHG   14.71   14.89   14.51   14.86   32921000.0\n",
      "                    600050.XSHG    9.90    9.94    9.45    9.51  289860800.0\n",
      "                    601318.XSHG  148.56  148.67  144.26  144.69   34959100.0\n",
      "2017-11-10 15:00:00 600029.XSHG   15.07   15.12   14.56   14.71   54910000.0\n",
      "                    600050.XSHG    9.97   10.01    9.83    9.88  234600300.0\n",
      "                    601318.XSHG  156.53  156.65  147.71  147.71   62667000.0\n",
      "2017-11-13 15:00:00 600029.XSHG   15.35   15.52   14.81   15.00   58973600.0\n",
      "                    600050.XSHG    9.96   10.01    9.84    9.95  164283500.0\n",
      "                    601318.XSHG  157.12  158.06  155.66  157.34   38658500.0\n",
      "2017-11-14 15:00:00 600029.XSHG   16.00   16.26   15.14   15.20   73045100.0\n",
      "                    600050.XSHG    9.49    9.91    9.44    9.91  278058200.0\n",
      "                    601318.XSHG  157.72  159.62  156.29  158.39   39285200.0\n",
      "2017-11-15 15:00:00 600029.XSHG   16.04   16.64   15.83   15.85   61735000.0\n",
      "                    600050.XSHG    9.68    9.82    9.43    9.45  196509900.0\n",
      "                    601318.XSHG  154.99  157.72  153.64  156.56   51015200.0\n",
      "2017-11-16 15:00:00 600029.XSHG   16.29   16.62   15.68   16.04   44111500.0\n",
      "                    600050.XSHG    9.61    9.68    9.44    9.61  138455500.0\n",
      "                    601318.XSHG  163.52  163.72  154.32  154.47   58419700.0\n",
      "2017-11-17 15:00:00 600029.XSHG   16.97   17.66   16.13   16.13   75547100.0\n",
      "                    600050.XSHG    9.63    9.96    9.59    9.66  272769100.0\n",
      "                    601318.XSHG  168.58  168.69  160.97  162.69   77105700.0\n",
      "2017-11-20 15:00:00 600029.XSHG   17.05   17.55   16.42   17.07   49395200.0\n",
      "                    600050.XSHG    9.80    9.82    9.37    9.45  214754300.0\n",
      "                    601318.XSHG  169.57  171.27  166.19  167.46   55528000.0\n",
      "\n",
      "[547 rows x 5 columns]\n"
     ]
    }
   ],
   "source": [
    " MI = PN.to_frame()\n",
    "MI_tp = PN.transpose(2,1,0)\n",
    "MI_tp = PN.transpose(2,1,0).to_frame()\n",
    "print(MI_tp)"
   ]
  },
  {
   "cell_type": "code",
   "execution_count": 11,
   "metadata": {},
   "outputs": [
    {
     "name": "stdout",
     "output_type": "stream",
     "text": [
      "[ 13.85  13.82  13.83  14.11  14.25  14.39  15.1   15.15  15.22  14.97\n",
      "  14.89  14.99  14.71  15.07  15.35  16.    16.04  16.29  16.97  17.05]\n",
      "[ 8.53  8.56  8.62  8.88  9.25  9.24  9.43  9.25  9.02  9.15  9.63  9.5\n",
      "  9.9   9.97  9.96  9.49  9.68  9.61  9.63  9.8 ]\n",
      "[ 134.83  134.56  137.5   143.18  143.48  144.15  143.61  143.65  144.35\n",
      "  143.36  146.41  144.71  148.56  156.53  157.12  157.72  154.99  163.52\n",
      "  168.58  169.57]\n"
     ]
    }
   ],
   "source": [
    "s1 = MI_tp.close.values[0::3][-20:]\n",
    "s2 = MI_tp.close.values[1::3][-20:]\n",
    "s3 = MI_tp.close.values[2::3][-20:]\n",
    "print(s2)\n",
    "print(s3)\n",
    "print(s1)"
   ]
  },
  {
   "cell_type": "markdown",
   "metadata": {},
   "source": [
    "3.5 建立一个5*5的矩阵，值从0到24"
   ]
  },
  {
   "cell_type": "code",
   "execution_count": 12,
   "metadata": {},
   "outputs": [
    {
     "name": "stdout",
     "output_type": "stream",
     "text": [
      "[[ 0  1  2  3  4]\n",
      " [ 5  6  7  8  9]\n",
      " [10 11 12 13 14]\n",
      " [15 16 17 18 19]\n",
      " [20 21 22 23 24]]\n"
     ]
    }
   ],
   "source": [
    "import numpy as np\n",
    "s = np.arange(25).reshape(5,5)\n",
    "print(s)"
   ]
  }
 ],
 "metadata": {
  "kernelspec": {
   "display_name": "Python 3",
   "language": "python",
   "name": "python3"
  },
  "language_info": {
   "codemirror_mode": {
    "name": "ipython",
    "version": 3
   },
   "file_extension": ".py",
   "mimetype": "text/x-python",
   "name": "python",
   "nbconvert_exporter": "python",
   "pygments_lexer": "ipython3",
   "version": "3.6.2"
  }
 },
 "nbformat": 4,
 "nbformat_minor": 2
}
